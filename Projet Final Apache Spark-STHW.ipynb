{
 "cells": [
  {
   "cell_type": "markdown",
   "metadata": {},
   "source": [
    "# Projet Final Apache Spark"
   ]
  },
  {
   "cell_type": "markdown",
   "metadata": {},
   "source": [
    "**Nom Etudiant :**  SOME\n",
    "\n",
    "**Prenom Etudiant:**  Tiare Hermann Williams\n",
    "\n",
    "**Classe :**  M1 BDA\n"
   ]
  },
  {
   "cell_type": "markdown",
   "metadata": {},
   "source": [
    "## Description\n",
    "Ce projet consiste à utiliser Apache Spark pour faire l'analyse et le traitement des données de **[San Francisco Fire Department Calls ](https://data.sfgov.org/Public-Safety/Fire-Department-Calls-for-Service/nuek-vuh3)** afin de fournir quelques KPI (*Key Performance Indicator*). Le **SF Fire Dataset** comprend les réponses aux appels de toutes les unités d'incendie. Chaque enregistrement comprend le numéro d'appel, le numéro d'incident, l'adresse, l'identifiant de l'unité, le type d'appel et la disposition. Tous les intervalles de temps pertinents sont également inclus. Étant donné que ce Dataset est basé sur les réponses et que la plupart des appels impliquent plusieurs unités, ainsi il existe plusieurs enregistrements pour chaque numéro d'appel. Les adresses sont associées à un numéro de bloc, à une intersection ou à une boîte d'appel, et non à une adresse spécifique.\n",
    "\n",
    "**Plus de details sur la description des données cliquer sur ce [lien](https://data.sfgov.org/Public-Safety/Fire-Department-Calls-for-Service/nuek-vuh3)**"
   ]
  },
  {
   "cell_type": "markdown",
   "metadata": {},
   "source": [
    "## Travail à faire.\n",
    "L'objectif de ce projet est de comprendre le **SF Fire Dataset** afin de bien répondre aux questions en utilisant les codes Spark/Scala adéquates.\n",
    "\n",
    "- Créer un repos git (public ou privé) et partager le repos avec mon mail (limahin10@gmail.com)\n",
    "- Ecrire un code lisible et bien indenté \n",
    "- N'oublier pas de mettre en commentaire la justification de vos réponses sur les cellules Markdown. \n",
    "\n",
    "\n",
    "## Note:\n",
    "- Le projet est personnel, c'est-à-dire chaque notebook ne concerne qu'un seul étudiant. \n",
    "- Deadline : **Jeudi 10 janvier 2021** (Aucune de dérogation ne sera acceptée)"
   ]
  },
  {
   "cell_type": "markdown",
   "metadata": {},
   "source": [
    "### Chargement des données"
   ]
  },
  {
   "cell_type": "markdown",
   "metadata": {},
   "source": [
    "Importation des packages Spark"
   ]
  },
  {
   "cell_type": "code",
   "execution_count": 2,
   "metadata": {},
   "outputs": [
    {
     "data": {
      "text/plain": [
       "import org.apache.spark.sql.types._\n",
       "import org.apache.spark.sql.functions._\n",
       "import spark.implicits._\n",
       "import org.apache.spark.sql.Column\n",
       "import org.apache.spark.sql.SQLContext\n"
      ]
     },
     "execution_count": 2,
     "metadata": {},
     "output_type": "execute_result"
    }
   ],
   "source": [
    "import org.apache.spark.sql.types._ \n",
    "import org.apache.spark.sql.functions._ \n",
    "import spark.implicits._\n",
    "import org.apache.spark.sql.Column\n",
    "import org.apache.spark.sql.SQLContext"
   ]
  },
  {
   "cell_type": "markdown",
   "metadata": {},
   "source": [
    "Nous allons jeter un coup d'oeil sur la structure des données avant de définir un schéma"
   ]
  },
  {
   "cell_type": "code",
   "execution_count": 3,
   "metadata": {},
   "outputs": [
    {
     "name": "stdout",
     "output_type": "stream",
     "text": [
      "CallNumber,UnitID,IncidentNumber,CallType,CallDate,WatchDate,CallFinalDisposition,AvailableDtTm,Address,City,Zipcode,Battalion,StationArea,Box,OriginalPriority,Priority,FinalPriority,ALSUnit,CallTypeGroup,NumAlarms,UnitType,UnitSequenceInCallDispatch,FirePreventionDistrict,SupervisorDistrict,Neighborhood,Location,RowID,Delay\n",
      "\n"
     ]
    }
   ],
   "source": [
    "!head -1 \"datasets/sf-fire/sf-fire-calls.csv\""
   ]
  },
  {
   "cell_type": "markdown",
   "metadata": {},
   "source": [
    "Vu que la taille de ces données est énormes, inferer le schema pour un très grande volumes de données s'avère un peu couteux. Nous allons ainsi définir un schema pour le Dataset."
   ]
  },
  {
   "cell_type": "code",
   "execution_count": 4,
   "metadata": {},
   "outputs": [
    {
     "data": {
      "text/plain": [
       "fireSchema: org.apache.spark.sql.types.StructType = StructType(StructField(CallNumber,IntegerType,true), StructField(UnitID,StringType,true), StructField(IncidentNumber,IntegerType,true), StructField(CallType,StringType,true), StructField(CallDate,StringType,true), StructField(WatchDate,StringType,true), StructField(CallFinalDisposition,StringType,true), StructField(AvailableDtTm,StringType,true), StructField(Address,StringType,true), StructField(City,StringType,true), StructField(Zipcode,IntegerType,true), StructField(Battalion,StringType,true), StructField(StationArea,StringType,true), StructField(Box,StringType,true), StructField(OriginalPriority,StringType,true), StructField(Priority,StringType,true), StructField(FinalPriority,IntegerType,true), StructField(ALSUnit,BooleanType,true)...\n"
      ]
     },
     "execution_count": 4,
     "metadata": {},
     "output_type": "execute_result"
    }
   ],
   "source": [
    "val fireSchema = StructType(Array(StructField(\"CallNumber\", IntegerType, true),\n",
    "  StructField(\"UnitID\", StringType, true),\n",
    "  StructField(\"IncidentNumber\", IntegerType, true),\n",
    "  StructField(\"CallType\", StringType, true),                  \n",
    "  StructField(\"CallDate\", StringType, true),      \n",
    "  StructField(\"WatchDate\", StringType, true),\n",
    "  StructField(\"CallFinalDisposition\", StringType, true),\n",
    "  StructField(\"AvailableDtTm\", StringType, true),\n",
    "  StructField(\"Address\", StringType, true),       \n",
    "  StructField(\"City\", StringType, true),       \n",
    "  StructField(\"Zipcode\", IntegerType, true),       \n",
    "  StructField(\"Battalion\", StringType, true),                 \n",
    "  StructField(\"StationArea\", StringType, true),       \n",
    "  StructField(\"Box\", StringType, true),       \n",
    "  StructField(\"OriginalPriority\", StringType, true),       \n",
    "  StructField(\"Priority\", StringType, true),       \n",
    "  StructField(\"FinalPriority\", IntegerType, true),       \n",
    "  StructField(\"ALSUnit\", BooleanType, true),       \n",
    "  StructField(\"CallTypeGroup\", StringType, true),\n",
    "  StructField(\"NumAlarms\", IntegerType, true),\n",
    "  StructField(\"UnitType\", StringType, true),\n",
    "  StructField(\"UnitSequenceInCallDispatch\", IntegerType, true),\n",
    "  StructField(\"FirePreventionDistrict\", StringType, true),\n",
    "  StructField(\"SupervisorDistrict\", StringType, true),\n",
    "  StructField(\"Neighborhood\", StringType, true),\n",
    "  StructField(\"Location\", StringType, true),\n",
    "  StructField(\"RowID\", StringType, true),\n",
    "  StructField(\"Delay\", FloatType, true)))"
   ]
  },
  {
   "cell_type": "code",
   "execution_count": 5,
   "metadata": {},
   "outputs": [
    {
     "data": {
      "text/plain": [
       "sfFireFile: String = datasets/sf-fire/sf-fire-calls.csv\n",
       "fireDF: org.apache.spark.sql.DataFrame = [CallNumber: int, UnitID: string ... 26 more fields]\n"
      ]
     },
     "execution_count": 5,
     "metadata": {},
     "output_type": "execute_result"
    }
   ],
   "source": [
    "val sfFireFile = \"datasets/sf-fire/sf-fire-calls.csv\"\n",
    "val fireDF = spark\n",
    "  .read\n",
    "  .schema(fireSchema)\n",
    "  .option(\"header\", \"true\")\n",
    "  .csv(sfFireFile)"
   ]
  },
  {
   "cell_type": "markdown",
   "metadata": {},
   "source": [
    "Nous allons mettre en cache le Dataframe"
   ]
  },
  {
   "cell_type": "code",
   "execution_count": 6,
   "metadata": {},
   "outputs": [
    {
     "data": {
      "text/plain": [
       "res1: fireDF.type = [CallNumber: int, UnitID: string ... 26 more fields]\n"
      ]
     },
     "execution_count": 6,
     "metadata": {},
     "output_type": "execute_result"
    }
   ],
   "source": [
    "fireDF.cache()"
   ]
  },
  {
   "cell_type": "code",
   "execution_count": 6,
   "metadata": {},
   "outputs": [
    {
     "data": {
      "text/plain": [
       "res1: Long = 175296\n"
      ]
     },
     "execution_count": 6,
     "metadata": {},
     "output_type": "execute_result"
    }
   ],
   "source": [
    "fireDF.count()"
   ]
  },
  {
   "cell_type": "code",
   "execution_count": 7,
   "metadata": {},
   "outputs": [
    {
     "name": "stdout",
     "output_type": "stream",
     "text": [
      "root\n",
      " |-- CallNumber: integer (nullable = true)\n",
      " |-- UnitID: string (nullable = true)\n",
      " |-- IncidentNumber: integer (nullable = true)\n",
      " |-- CallType: string (nullable = true)\n",
      " |-- CallDate: string (nullable = true)\n",
      " |-- WatchDate: string (nullable = true)\n",
      " |-- CallFinalDisposition: string (nullable = true)\n",
      " |-- AvailableDtTm: string (nullable = true)\n",
      " |-- Address: string (nullable = true)\n",
      " |-- City: string (nullable = true)\n",
      " |-- Zipcode: integer (nullable = true)\n",
      " |-- Battalion: string (nullable = true)\n",
      " |-- StationArea: string (nullable = true)\n",
      " |-- Box: string (nullable = true)\n",
      " |-- OriginalPriority: string (nullable = true)\n",
      " |-- Priority: string (nullable = true)\n",
      " |-- FinalPriority: integer (nullable = true)\n",
      " |-- ALSUnit: boolean (nullable = true)\n",
      " |-- CallTypeGroup: string (nullable = true)\n",
      " |-- NumAlarms: integer (nullable = true)\n",
      " |-- UnitType: string (nullable = true)\n",
      " |-- UnitSequenceInCallDispatch: integer (nullable = true)\n",
      " |-- FirePreventionDistrict: string (nullable = true)\n",
      " |-- SupervisorDistrict: string (nullable = true)\n",
      " |-- Neighborhood: string (nullable = true)\n",
      " |-- Location: string (nullable = true)\n",
      " |-- RowID: string (nullable = true)\n",
      " |-- Delay: float (nullable = true)\n",
      "\n"
     ]
    }
   ],
   "source": [
    "fireDF.printSchema()"
   ]
  },
  {
   "cell_type": "code",
   "execution_count": 8,
   "metadata": {},
   "outputs": [
    {
     "name": "stdout",
     "output_type": "stream",
     "text": [
      "+----------+------+--------------+----------------+----------+----------+--------------------+--------------------+--------------------+----+-------+---------+-----------+----+----------------+--------+-------------+-------+-------------+---------+--------+--------------------------+----------------------+------------------+--------------------+--------------------+-------------+---------+\n",
      "|CallNumber|UnitID|IncidentNumber|        CallType|  CallDate| WatchDate|CallFinalDisposition|       AvailableDtTm|             Address|City|Zipcode|Battalion|StationArea| Box|OriginalPriority|Priority|FinalPriority|ALSUnit|CallTypeGroup|NumAlarms|UnitType|UnitSequenceInCallDispatch|FirePreventionDistrict|SupervisorDistrict|        Neighborhood|            Location|        RowID|    Delay|\n",
      "+----------+------+--------------+----------------+----------+----------+--------------------+--------------------+--------------------+----+-------+---------+-----------+----+----------------+--------+-------------+-------+-------------+---------+--------+--------------------------+----------------------+------------------+--------------------+--------------------+-------------+---------+\n",
      "|  20110016|   T13|       2003235|  Structure Fire|01/11/2002|01/10/2002|               Other|01/11/2002 01:51:...|2000 Block of CAL...|  SF|  94109|      B04|         38|3362|               3|       3|            3|  false|         null|        1|   TRUCK|                         2|                     4|                 5|     Pacific Heights|(37.7895840679362...|020110016-T13|     2.95|\n",
      "|  20110022|   M17|       2003241|Medical Incident|01/11/2002|01/10/2002|               Other|01/11/2002 03:01:...|0 Block of SILVER...|  SF|  94124|      B10|         42|6495|               3|       3|            3|   true|         null|        1|   MEDIC|                         1|                    10|                10|Bayview Hunters P...|(37.7337623673897...|020110022-M17|      4.7|\n",
      "|  20110023|   M41|       2003242|Medical Incident|01/11/2002|01/10/2002|               Other|01/11/2002 02:39:...|MARKET ST/MCALLIS...|  SF|  94102|      B03|         01|1455|               3|       3|            3|   true|         null|        1|   MEDIC|                         2|                     3|                 6|          Tenderloin|(37.7811772186856...|020110023-M41|2.4333334|\n",
      "|  20110032|   E11|       2003250|    Vehicle Fire|01/11/2002|01/10/2002|               Other|01/11/2002 04:16:...|APPLETON AV/MISSI...|  SF|  94110|      B06|         32|5626|               3|       3|            3|  false|         null|        1|  ENGINE|                         1|                     6|                 9|      Bernal Heights|(37.7388432849018...|020110032-E11|      1.5|\n",
      "|  20110043|   B04|       2003259|          Alarms|01/11/2002|01/10/2002|               Other|01/11/2002 06:01:...|1400 Block of SUT...|  SF|  94109|      B04|         03|3223|               3|       3|            3|  false|         null|        1|   CHIEF|                         2|                     4|                 2|    Western Addition|(37.7872890372638...|020110043-B04|3.4833333|\n",
      "+----------+------+--------------+----------------+----------+----------+--------------------+--------------------+--------------------+----+-------+---------+-----------+----+----------------+--------+-------------+-------+-------------+---------+--------+--------------------------+----------------------+------------------+--------------------+--------------------+-------------+---------+\n",
      "only showing top 5 rows\n",
      "\n"
     ]
    }
   ],
   "source": [
    "fireDF.show(5)"
   ]
  },
  {
   "cell_type": "markdown",
   "metadata": {},
   "source": [
    "Filtrage des d'appels de type \"Medical Incident\""
   ]
  },
  {
   "cell_type": "code",
   "execution_count": 7,
   "metadata": {},
   "outputs": [
    {
     "name": "stdout",
     "output_type": "stream",
     "text": [
      "+--------------+----------------------+--------------+\n",
      "|IncidentNumber|AvailableDtTm         |CallType      |\n",
      "+--------------+----------------------+--------------+\n",
      "|2003235       |01/11/2002 01:51:44 AM|Structure Fire|\n",
      "|2003250       |01/11/2002 04:16:46 AM|Vehicle Fire  |\n",
      "|2003259       |01/11/2002 06:01:58 AM|Alarms        |\n",
      "|2003279       |01/11/2002 08:03:26 AM|Structure Fire|\n",
      "|2003301       |01/11/2002 09:46:44 AM|Alarms        |\n",
      "+--------------+----------------------+--------------+\n",
      "only showing top 5 rows\n",
      "\n"
     ]
    },
    {
     "data": {
      "text/plain": [
       "fewFireDF: org.apache.spark.sql.Dataset[org.apache.spark.sql.Row] = [IncidentNumber: int, AvailableDtTm: string ... 1 more field]\n"
      ]
     },
     "execution_count": 7,
     "metadata": {},
     "output_type": "execute_result"
    }
   ],
   "source": [
    "val fewFireDF = fireDF\n",
    "  .select(\"IncidentNumber\", \"AvailableDtTm\", \"CallType\") \n",
    "  .where($\"CallType\" =!= \"Medical Incident\")\n",
    "\n",
    "fewFireDF.show(5, false)"
   ]
  },
  {
   "cell_type": "markdown",
   "metadata": {},
   "source": [
    "### Question 1\n",
    "**Combien de types d'appels distincts ont été passés ?**  \n",
    "Pour être sûr, il ne faut pas compter les valeurs «nulles» dans la colonne."
   ]
  },
  {
   "cell_type": "code",
   "execution_count": 8,
   "metadata": {},
   "outputs": [
    {
     "data": {
      "text/plain": [
       "res3: Long = 30\n"
      ]
     },
     "execution_count": 8,
     "metadata": {},
     "output_type": "execute_result"
    }
   ],
   "source": [
    "// Reponse 1\n",
    "fireDF.select(\"CallType\").distinct().count()"
   ]
  },
  {
   "cell_type": "markdown",
   "metadata": {},
   "source": [
    "En fonction de la variable CallType nous denombrons 30 types d'appels distinct dans la base de donnees. Le nombre d'appels par type sera commenté a la question 4. La base de comporte pas de valeurs manquantes apparemments."
   ]
  },
  {
   "cell_type": "markdown",
   "metadata": {},
   "source": [
    "### Question 2"
   ]
  },
  {
   "cell_type": "markdown",
   "metadata": {},
   "source": [
    "**Quels types d'appels différents ont été passés au service d'incendie?**"
   ]
  },
  {
   "cell_type": "code",
   "execution_count": 9,
   "metadata": {},
   "outputs": [
    {
     "name": "stdout",
     "output_type": "stream",
     "text": [
      "+-----------------------------------+\n",
      "|CallType                           |\n",
      "+-----------------------------------+\n",
      "|Elevator / Escalator Rescue        |\n",
      "|Marine Fire                        |\n",
      "|Aircraft Emergency                 |\n",
      "|Confined Space / Structure Collapse|\n",
      "|Administrative                     |\n",
      "|Alarms                             |\n",
      "|Odor (Strange / Unknown)           |\n",
      "|Citizen Assist / Service Call      |\n",
      "|HazMat                             |\n",
      "|Watercraft in Distress             |\n",
      "+-----------------------------------+\n",
      "only showing top 10 rows\n",
      "\n"
     ]
    }
   ],
   "source": [
    "// Reponse 2\n",
    "fireDF.select(\"CallType\").distinct().show(10, false)"
   ]
  },
  {
   "cell_type": "markdown",
   "metadata": {},
   "source": [
    "Nous presentons ici les 10 premieres lignes des differents type d'appels"
   ]
  },
  {
   "cell_type": "markdown",
   "metadata": {},
   "source": [
    "### Question 3\n",
    "\n",
    "**Trouver toutes les réponses ou les délais sont supérieurs à 5 minutes?**\n",
    "\n",
    "*Indication\n",
    "1. Renommer la colonne Delay -> ReponseDelayedinMins\n",
    "2. Retourner un nouveau DataFrame\n",
    "3. Afficher tous les appels où le temps de réponse à un site d'incendie a eu lieu après un retard de plus de 5 minutes"
   ]
  },
  {
   "cell_type": "code",
   "execution_count": 10,
   "metadata": {},
   "outputs": [
    {
     "name": "stdout",
     "output_type": "stream",
     "text": [
      "+----------+------+--------------+-----------------------------+----------+----------+--------------------+----------------------+------------------------------+----+-------+---------+-----------+----+----------------+--------+-------------+-------+-------------+---------+--------------+--------------------------+----------------------+------------------+------------------------------+-------------------------------------+-------------+---------------------+\n",
      "|CallNumber|UnitID|IncidentNumber|CallType                     |CallDate  |WatchDate |CallFinalDisposition|AvailableDtTm         |Address                       |City|Zipcode|Battalion|StationArea|Box |OriginalPriority|Priority|FinalPriority|ALSUnit|CallTypeGroup|NumAlarms|UnitType      |UnitSequenceInCallDispatch|FirePreventionDistrict|SupervisorDistrict|Neighborhood                  |Location                             |RowID        |ResponseDelayedinMins|\n",
      "+----------+------+--------------+-----------------------------+----------+----------+--------------------+----------------------+------------------------------+----+-------+---------+-----------+----+----------------+--------+-------------+-------+-------------+---------+--------------+--------------------------+----------------------+------------------+------------------------------+-------------------------------------+-------------+---------------------+\n",
      "|20110315  |RC2   |2003409       |Medical Incident             |01/11/2002|01/11/2002|Other               |01/11/2002 04:34:23 PM|200 Block of LAGUNA HONDA BLVD|SF  |94116  |B08      |20         |8635|3               |3       |3            |true   |null         |1        |RESCUE CAPTAIN|2                         |8                     |7                 |West of Twin Peaks            |(37.7501117393668, -122.460819155469)|020110315-RC2|5.35                 |\n",
      "|20120147  |M38   |2003642       |Medical Incident             |01/12/2002|01/12/2002|Other               |01/12/2002 01:23:04 PM|1300 Block of HYDE ST         |SF  |94109  |B01      |41         |1564|1               |1       |2            |true   |null         |1        |MEDIC         |1                         |1                     |3                 |Russian Hill                  |(37.793235074749, -122.417915793747) |020120147-M38|6.25                 |\n",
      "|20130013  |M03   |2003818       |Medical Incident             |01/13/2002|01/12/2002|Other               |01/13/2002 01:51:15 AM|800 Block of LARKIN ST        |SF  |94109  |B04      |3          |1642|2               |2       |2            |true   |null         |1        |MEDIC         |1                         |4                     |6                 |Tenderloin                    |(37.7858627664608, -122.418110537872)|020130013-M03|5.2                  |\n",
      "|20140067  |T19   |2004152       |Citizen Assist / Service Call|01/14/2002|01/14/2002|Other               |01/14/2002 08:16:54 AM|2900 Block of 22ND AVE        |SF  |94132  |B08      |19         |8732|3               |3       |3            |false  |null         |1        |TRUCK         |1                         |8                     |7                 |Sunset/Parkside               |(37.7335645188552, -122.477843526592)|020140067-T19|5.6                  |\n",
      "|20140177  |RS1   |2004216       |Medical Incident             |01/14/2002|01/14/2002|Other               |01/14/2002 12:27:03 PM|MONTGOMERY ST/SUTTER ST       |SF  |94104  |B01      |13         |1164|3               |3       |3            |false  |null         |1        |RESCUE SQUAD  |2                         |1                     |3                 |Financial District/South Beach|(37.7900390948551, -122.40218964437) |020140177-RS1|7.25                 |\n",
      "|20150056  |E35   |2004408       |Medical Incident             |01/15/2002|01/14/2002|Other               |01/15/2002 06:53:38 AM|100 Block of 7TH ST           |SF  |94103  |B03      |8          |2312|3               |3       |3            |false  |null         |1        |ENGINE        |2                         |3                     |6                 |South of Market               |(37.7790372933741, -122.41062000696) |020150056-E35|11.916667            |\n",
      "|20150254  |M07   |2004521       |Medical Incident             |01/15/2002|01/15/2002|Other               |01/15/2002 03:18:26 PM|18TH ST/CHURCH ST             |SF  |94114  |B02      |6          |5421|1               |1       |2            |true   |null         |1        |MEDIC         |1                         |2                     |8                 |Castro/Upper Market           |(37.761289573177, -122.428354067217) |020150254-M07|5.116667             |\n",
      "|20150265  |T16   |2004528       |Medical Incident             |01/15/2002|01/15/2002|Other               |01/15/2002 03:55:41 PM|FRANCISCO ST/MASON ST         |SF  |94133  |B01      |28         |1434|3               |3       |3            |false  |null         |1        |TRUCK         |4                         |1                     |3                 |North Beach                   |(37.8046841615796, -122.413428555065)|020150265-T16|8.633333             |\n",
      "|20150265  |UU1   |2004528       |Medical Incident             |01/15/2002|01/15/2002|Other               |01/15/2002 07:49:05 PM|FRANCISCO ST/MASON ST         |SF  |94133  |B01      |28         |1434|3               |3       |3            |false  |null         |1        |SUPPORT       |9                         |1                     |3                 |North Beach                   |(37.8046841615796, -122.413428555065)|020150265-UU1|95.28333             |\n",
      "|20150380  |91    |2004610       |Medical Incident             |01/15/2002|01/15/2002|Other               |01/15/2002 08:17:15 PM|800 Block of MARKET ST        |SF  |94103  |B03      |1          |2212|3               |3       |3            |false  |null         |1        |MEDIC         |1                         |3                     |6                 |South of Market               |(37.7842056749338, -122.407612731809)|020150380-91 |5.45                 |\n",
      "+----------+------+--------------+-----------------------------+----------+----------+--------------------+----------------------+------------------------------+----+-------+---------+-----------+----+----------------+--------+-------------+-------+-------------+---------+--------------+--------------------------+----------------------+------------------+------------------------------+-------------------------------------+-------------+---------------------+\n",
      "only showing top 10 rows\n",
      "\n"
     ]
    },
    {
     "data": {
      "text/plain": [
       "newFireDF: org.apache.spark.sql.DataFrame = [CallNumber: int, UnitID: string ... 26 more fields]\n",
       "fireCallssup5: org.apache.spark.sql.Dataset[org.apache.spark.sql.Row] = [CallNumber: int, UnitID: string ... 26 more fields]\n"
      ]
     },
     "execution_count": 10,
     "metadata": {},
     "output_type": "execute_result"
    }
   ],
   "source": [
    "// Reponse 3\n",
    "val newFireDF = fireDF.withColumnRenamed(\"Delay\", \"ResponseDelayedinMins\")\n",
    "val fireCallssup5 = newFireDF.filter(newFireDF(\"ResponseDelayedinMins\")>5)\n",
    "fireCallssup5.show(10, false)"
   ]
  },
  {
   "cell_type": "markdown",
   "metadata": {},
   "source": [
    "### Transformations des dates\n",
    "Maintenant nous allons d'abord:\n",
    "1. Transformer les dates de type String en Spark Timestamp afin que nous puissions effectuer des requêtes basées sur la date plus tard\n",
    "2. Retourner le Dataframe transformée\n",
    "3. Mettre en cache le nouveau DataFrame"
   ]
  },
  {
   "cell_type": "code",
   "execution_count": 11,
   "metadata": {},
   "outputs": [
    {
     "data": {
      "text/plain": [
       "fireTSDF: org.apache.spark.sql.DataFrame = [CallNumber: int, UnitID: string ... 26 more fields]\n",
       "res6: fireTSDF.type = [CallNumber: int, UnitID: string ... 26 more fields]\n"
      ]
     },
     "execution_count": 11,
     "metadata": {},
     "output_type": "execute_result"
    }
   ],
   "source": [
    "val fireTSDF = newFireDF\n",
    "  .withColumn(\"IncidentDate\", to_timestamp(col(\"CallDate\"), \"MM/dd/yyyy\")).drop(\"CallDate\") \n",
    "  .withColumn(\"OnWatchDate\", to_timestamp(col(\"WatchDate\"), \"MM/dd/yyyy\")).drop(\"WatchDate\") \n",
    "  .withColumn(\"AvailableDtTS\", to_timestamp(col(\"AvailableDtTm\"), \"MM/dd/yyyy hh:mm:ss a\")).drop(\"AvailableDtTm\")\n",
    "\n",
    "fireTSDF.cache()"
   ]
  },
  {
   "cell_type": "code",
   "execution_count": 69,
   "metadata": {},
   "outputs": [
    {
     "name": "stdout",
     "output_type": "stream",
     "text": [
      "root\n",
      " |-- CallNumber: integer (nullable = true)\n",
      " |-- UnitID: string (nullable = true)\n",
      " |-- IncidentNumber: integer (nullable = true)\n",
      " |-- CallType: string (nullable = true)\n",
      " |-- CallFinalDisposition: string (nullable = true)\n",
      " |-- Address: string (nullable = true)\n",
      " |-- City: string (nullable = true)\n",
      " |-- Zipcode: integer (nullable = true)\n",
      " |-- Battalion: string (nullable = true)\n",
      " |-- StationArea: string (nullable = true)\n",
      " |-- Box: string (nullable = true)\n",
      " |-- OriginalPriority: string (nullable = true)\n",
      " |-- Priority: string (nullable = true)\n",
      " |-- FinalPriority: integer (nullable = true)\n",
      " |-- ALSUnit: boolean (nullable = true)\n",
      " |-- CallTypeGroup: string (nullable = true)\n",
      " |-- NumAlarms: integer (nullable = true)\n",
      " |-- UnitType: string (nullable = true)\n",
      " |-- UnitSequenceInCallDispatch: integer (nullable = true)\n",
      " |-- FirePreventionDistrict: string (nullable = true)\n",
      " |-- SupervisorDistrict: string (nullable = true)\n",
      " |-- Neighborhood: string (nullable = true)\n",
      " |-- Location: string (nullable = true)\n",
      " |-- RowID: string (nullable = true)\n",
      " |-- ResponseDelayedinMins: float (nullable = true)\n",
      " |-- IncidentDate: timestamp (nullable = true)\n",
      " |-- OnWatchDate: timestamp (nullable = true)\n",
      " |-- AvailableDtTS: timestamp (nullable = true)\n",
      "\n"
     ]
    }
   ],
   "source": [
    "fireTSDF.printSchema()"
   ]
  },
  {
   "cell_type": "markdown",
   "metadata": {},
   "source": [
    "### Question 4\n",
    "**Quels sont les types d'appels les plus courants?**"
   ]
  },
  {
   "cell_type": "code",
   "execution_count": 12,
   "metadata": {},
   "outputs": [
    {
     "name": "stdout",
     "output_type": "stream",
     "text": [
      "+--------------------------------------------+------+\n",
      "|CallType                                    |count |\n",
      "+--------------------------------------------+------+\n",
      "|Medical Incident                            |113794|\n",
      "|Structure Fire                              |23319 |\n",
      "|Alarms                                      |19406 |\n",
      "|Traffic Collision                           |7013  |\n",
      "|Citizen Assist / Service Call               |2524  |\n",
      "|Other                                       |2166  |\n",
      "|Outside Fire                                |2094  |\n",
      "|Vehicle Fire                                |854   |\n",
      "|Gas Leak (Natural and LP Gases)             |764   |\n",
      "|Water Rescue                                |755   |\n",
      "|Odor (Strange / Unknown)                    |490   |\n",
      "|Electrical Hazard                           |482   |\n",
      "|Elevator / Escalator Rescue                 |453   |\n",
      "|Smoke Investigation (Outside)               |391   |\n",
      "|Fuel Spill                                  |193   |\n",
      "|HazMat                                      |124   |\n",
      "|Industrial Accidents                        |94    |\n",
      "|Explosion                                   |89    |\n",
      "|Train / Rail Incident                       |57    |\n",
      "|Aircraft Emergency                          |36    |\n",
      "|Assist Police                               |35    |\n",
      "|High Angle Rescue                           |32    |\n",
      "|Extrication / Entrapped (Machinery, Vehicle)|28    |\n",
      "|Watercraft in Distress                      |28    |\n",
      "|Oil Spill                                   |21    |\n",
      "|Suspicious Package                          |15    |\n",
      "|Marine Fire                                 |14    |\n",
      "|Confined Space / Structure Collapse         |13    |\n",
      "|Mutual Aid / Assist Outside Agency          |9     |\n",
      "|Administrative                              |3     |\n",
      "+--------------------------------------------+------+\n",
      "\n"
     ]
    },
    {
     "data": {
      "text/plain": [
       "fireCallsCourant: org.apache.spark.sql.Dataset[org.apache.spark.sql.Row] = [CallType: string, count: bigint]\n"
      ]
     },
     "execution_count": 12,
     "metadata": {},
     "output_type": "execute_result"
    }
   ],
   "source": [
    "//Reponse 4\n",
    "val fireCallsCourant = fireTSDF.groupBy(\"CallType\").count().orderBy(desc(\"count\"))\n",
    "fireCallsCourant.show(30, false)"
   ]
  },
  {
   "cell_type": "markdown",
   "metadata": {},
   "source": [
    "Les Incidents medicaux representent les types d'appels courant dans la base de donnees avec 11794 appels celui pour les besoin administrative est le moins frequent"
   ]
  },
  {
   "cell_type": "markdown",
   "metadata": {},
   "source": [
    "### Question 5-a\n",
    "**Quels sont boites postaux rencontrés dans les appels les plus courants?**"
   ]
  },
  {
   "cell_type": "code",
   "execution_count": 13,
   "metadata": {},
   "outputs": [
    {
     "name": "stdout",
     "output_type": "stream",
     "text": [
      "+--------------+----+----------------+\n",
      "|IncidentNumber| Box|        CallType|\n",
      "+--------------+----+----------------+\n",
      "|       2003241|6495|Medical Incident|\n",
      "|       2003242|1455|Medical Incident|\n",
      "|       2003343|3513|Medical Incident|\n",
      "|       2003348|5415|Medical Incident|\n",
      "|       2003381|5525|Medical Incident|\n",
      "|       2003399|1557|Medical Incident|\n",
      "|       2003403|7173|Medical Incident|\n",
      "|       2003409|8635|Medical Incident|\n",
      "|       2003417|7145|Medical Incident|\n",
      "|       2003417|7145|Medical Incident|\n",
      "|       2003435|1311|Medical Incident|\n",
      "|       2003500|1153|Medical Incident|\n",
      "|       2003529|8734|Medical Incident|\n",
      "|       2003550|6244|Medical Incident|\n",
      "|       2003576|7113|Medical Incident|\n",
      "|       2003577|4252|Medical Incident|\n",
      "|       2003584|5226|Medical Incident|\n",
      "|       2003593|4256|Medical Incident|\n",
      "|       2003630|3361|Medical Incident|\n",
      "|       2003639|5246|Medical Incident|\n",
      "+--------------+----+----------------+\n",
      "only showing top 20 rows\n",
      "\n"
     ]
    },
    {
     "data": {
      "text/plain": [
       "fireTSDFBox: org.apache.spark.sql.Dataset[org.apache.spark.sql.Row] = [IncidentNumber: int, Box: string ... 1 more field]\n"
      ]
     },
     "execution_count": 13,
     "metadata": {},
     "output_type": "execute_result"
    }
   ],
   "source": [
    "//Reponse\n",
    "val fireTSDFBox = fireTSDF.select(\"IncidentNumber\", \"Box\", \"CallType\").where($\"CallType\" === \"Medical Incident\")\n",
    "\n",
    "fireTSDFBox.show()"
   ]
  },
  {
   "cell_type": "markdown",
   "metadata": {},
   "source": [
    "Nous nous sommes focalisé sur les types d'appel le plus frequnet c'est a dire : Medical Incident. et nous affichons ici les 20 premiere boites postaux"
   ]
  },
  {
   "cell_type": "markdown",
   "metadata": {},
   "source": [
    "### Question 5-a\n",
    "**Quels sont les quartiers de San Francisco dont les codes postaux sont 94102 et 94103?**"
   ]
  },
  {
   "cell_type": "code",
   "execution_count": 14,
   "metadata": {},
   "outputs": [
    {
     "name": "stdout",
     "output_type": "stream",
     "text": [
      "+------------+\n",
      "|Neighborhood|\n",
      "+------------+\n",
      "+------------+\n",
      "\n"
     ]
    },
    {
     "data": {
      "text/plain": [
       "fireTSDFNeigh: org.apache.spark.sql.Dataset[org.apache.spark.sql.Row] = [Neighborhood: string]\n"
      ]
     },
     "execution_count": 14,
     "metadata": {},
     "output_type": "execute_result"
    }
   ],
   "source": [
    "//Reponse 5-b\n",
    "val fireTSDFNeigh = fireTSDF.select(\"Neighborhood\").where($\"Box\" === \"94102\" || $\"Box\" === \"94103\").distinct()\n",
    "fireTSDFNeigh.show(5, false)"
   ]
  },
  {
   "cell_type": "markdown",
   "metadata": {},
   "source": [
    "aucun quartier de San Francisco n'a comme code postal 94102 et 94103"
   ]
  },
  {
   "cell_type": "markdown",
   "metadata": {},
   "source": [
    "### Question 6\n",
    "**Determiner le nombre total d'appels, ainsi que la moyenne, le minimum et le maximum du temps de réponse des appels?**"
   ]
  },
  {
   "cell_type": "code",
   "execution_count": 15,
   "metadata": {},
   "outputs": [
    {
     "name": "stdout",
     "output_type": "stream",
     "text": [
      "+-------+---------------------+\n",
      "|summary|ResponseDelayedinMins|\n",
      "+-------+---------------------+\n",
      "|  count|               175296|\n",
      "|   mean|    3.892364154521585|\n",
      "| stddev|    9.378286226254216|\n",
      "|    min|          0.016666668|\n",
      "|    max|              1844.55|\n",
      "+-------+---------------------+\n",
      "\n"
     ]
    },
    {
     "data": {
      "text/plain": [
       "desc: org.apache.spark.sql.DataFrame = [summary: string, CallNumber: string ... 23 more fields]\n"
      ]
     },
     "execution_count": 15,
     "metadata": {},
     "output_type": "execute_result"
    }
   ],
   "source": [
    "//Reponse 6\n",
    "val desc = fireTSDF.describe()\n",
    "desc.select(\"summary\", \"ResponseDelayedinMins\").show()"
   ]
  },
  {
   "cell_type": "markdown",
   "metadata": {},
   "source": [
    "En moyenne les appels ne dure que 4 mn"
   ]
  },
  {
   "cell_type": "markdown",
   "metadata": {},
   "source": [
    "### Question 7-a\n",
    "**Combien d'années distinctes trouve t-on dans ce Dataset?**  \n",
    "Dans ce dataset nous avons des données comprises entre 2000-2018. Vous pouvez utilisez la fonction Spark `year()` pour les dates en Timestamp"
   ]
  },
  {
   "cell_type": "code",
   "execution_count": 16,
   "metadata": {},
   "outputs": [
    {
     "name": "stdout",
     "output_type": "stream",
     "text": [
      "+------------------+\n",
      "|year(IncidentDate)|\n",
      "+------------------+\n",
      "|              2000|\n",
      "|              2001|\n",
      "|              2002|\n",
      "|              2003|\n",
      "|              2004|\n",
      "|              2005|\n",
      "|              2006|\n",
      "|              2007|\n",
      "|              2008|\n",
      "|              2009|\n",
      "|              2010|\n",
      "|              2011|\n",
      "|              2012|\n",
      "|              2013|\n",
      "|              2014|\n",
      "|              2015|\n",
      "|              2016|\n",
      "|              2017|\n",
      "|              2018|\n",
      "+------------------+\n",
      "\n"
     ]
    }
   ],
   "source": [
    "//Reponse 7-a\n",
    "fireTSDF.select(year(fireTSDF(\"IncidentDate\"))).distinct().orderBy(\"year(IncidentDate)\").show()"
   ]
  },
  {
   "cell_type": "markdown",
   "metadata": {},
   "source": [
    "### Question 7-b\n",
    "**Quelle semaine de l'année 2018 a eu le plus d'appels d'incendie?**"
   ]
  },
  {
   "cell_type": "code",
   "execution_count": 17,
   "metadata": {},
   "outputs": [
    {
     "name": "stdout",
     "output_type": "stream",
     "text": [
      "+------------------------+-----+\n",
      "|weekofyear(IncidentDate)|count|\n",
      "+------------------------+-----+\n",
      "|45                      |64   |\n",
      "|24                      |198  |\n",
      "|4                       |202  |\n",
      "|17                      |203  |\n",
      "|36                      |203  |\n",
      "|30                      |203  |\n",
      "|41                      |220  |\n",
      "|12                      |221  |\n",
      "|35                      |221  |\n",
      "|15                      |222  |\n",
      "|37                      |223  |\n",
      "|26                      |223  |\n",
      "|27                      |223  |\n",
      "|29                      |223  |\n",
      "|3                       |224  |\n",
      "|39                      |224  |\n",
      "|20                      |225  |\n",
      "|6                       |225  |\n",
      "|14                      |225  |\n",
      "|33                      |225  |\n",
      "|38                      |226  |\n",
      "|9                       |228  |\n",
      "|7                       |228  |\n",
      "|16                      |228  |\n",
      "|28                      |231  |\n",
      "|21                      |231  |\n",
      "|34                      |232  |\n",
      "|10                      |232  |\n",
      "|8                       |232  |\n",
      "|19                      |233  |\n",
      "|42                      |234  |\n",
      "|31                      |234  |\n",
      "|2                       |234  |\n",
      "|23                      |235  |\n",
      "|5                       |236  |\n",
      "|18                      |236  |\n",
      "|11                      |240  |\n",
      "|13                      |243  |\n",
      "|32                      |243  |\n",
      "|44                      |244  |\n",
      "|1                       |246  |\n",
      "|25                      |249  |\n",
      "|43                      |250  |\n",
      "|40                      |255  |\n",
      "|22                      |259  |\n",
      "+------------------------+-----+\n",
      "\n"
     ]
    },
    {
     "data": {
      "text/plain": [
       "df_week: org.apache.spark.sql.Dataset[org.apache.spark.sql.Row] = [weekofyear(IncidentDate): int, count: bigint]\n"
      ]
     },
     "execution_count": 17,
     "metadata": {},
     "output_type": "execute_result"
    }
   ],
   "source": [
    "//Reponse 7-b\n",
    "val df_week = fireTSDF.filter(year(fireTSDF(\"IncidentDate\")) === \"2018\").groupBy(weekofyear(fireTSDF(\"IncidentDate\"))).count().orderBy(\"count\")\n",
    "df_week.show(52, false)"
   ]
  },
  {
   "cell_type": "markdown",
   "metadata": {},
   "source": [
    "la semaine 22 represente la semaine avec le plus d'appels"
   ]
  },
  {
   "cell_type": "markdown",
   "metadata": {},
   "source": [
    "### Question 8\n",
    "**Quels sont les quartiers de San Francisco qui ont connu le pire temps de réponse en 2018?**"
   ]
  },
  {
   "cell_type": "code",
   "execution_count": 18,
   "metadata": {},
   "outputs": [
    {
     "name": "stdout",
     "output_type": "stream",
     "text": [
      "+------------------------------+--------------------------+\n",
      "|Neighborhood                  |avg(ResponseDelayedinMins)|\n",
      "+------------------------------+--------------------------+\n",
      "|Lone Mountain/USF             |3.2472222397724786        |\n",
      "|Glen Park                     |3.277777776122093         |\n",
      "|Western Addition              |3.2843276457861066        |\n",
      "|Lincoln Park                  |3.3111111190583973        |\n",
      "|Portola                       |3.3385542175137854        |\n",
      "|Japantown                     |3.347695054526025         |\n",
      "|None                          |3.363333320617676         |\n",
      "|Hayes Valley                  |3.3703894590082037        |\n",
      "|Marina                        |3.4267888378098372        |\n",
      "|Mission                       |3.4505293849459875        |\n",
      "|Visitacion Valley             |3.4838095208009086        |\n",
      "|Noe Valley                    |3.525949378556843         |\n",
      "|Sunset/Parkside               |3.5842003932147355        |\n",
      "|Outer Mission                 |3.6317518444827           |\n",
      "|Outer Richmond                |3.6480915955346047        |\n",
      "|Twin Peaks                    |3.7292349641440343        |\n",
      "|Russian Hill                  |3.786621309056574         |\n",
      "|Nob Hill                      |3.799999982320656         |\n",
      "|Castro/Upper Market           |3.8012616103032673        |\n",
      "|South of Market               |3.817584685514286         |\n",
      "|Golden Gate Park              |3.8361979036126286        |\n",
      "|Bernal Heights                |3.8464705796802745        |\n",
      "|Mission Bay                   |3.854868933558464         |\n",
      "|Lakeshore                     |3.881551365057627         |\n",
      "|North Beach                   |3.889249638303534         |\n",
      "|Excelsior                     |3.9363993801317125        |\n",
      "|Oceanview/Merced/Ingleside    |3.947242203912289         |\n",
      "|Tenderloin                    |4.101519513551657         |\n",
      "|Pacific Heights               |4.180453730971402         |\n",
      "|Potrero Hill                  |4.190555579037893         |\n",
      "|West of Twin Peaks            |4.190952391851516         |\n",
      "|Seacliff                      |4.26111114025116          |\n",
      "|Haight Ashbury                |4.266428579390049         |\n",
      "|Financial District/South Beach|4.344084616885593         |\n",
      "|Inner Richmond                |4.364728709292966         |\n",
      "|Inner Sunset                  |4.438095217981896         |\n",
      "|Presidio Heights              |4.594131482319093         |\n",
      "|Bayview Hunters Point         |4.620561962212182         |\n",
      "|McLaren Park                  |4.74404764175415          |\n",
      "|Treasure Island               |5.453703684111436         |\n",
      "|Presidio                      |5.829227011272873         |\n",
      "|Chinatown                     |6.190314101143033         |\n",
      "+------------------------------+--------------------------+\n",
      "\n"
     ]
    },
    {
     "data": {
      "text/plain": [
       "TSDF: org.apache.spark.sql.Dataset[org.apache.spark.sql.Row] = [CallNumber: int, UnitID: string ... 26 more fields]\n",
       "stat: org.apache.spark.sql.Dataset[org.apache.spark.sql.Row] = [Neighborhood: string, avg(ResponseDelayedinMins): double]\n"
      ]
     },
     "execution_count": 18,
     "metadata": {},
     "output_type": "execute_result"
    }
   ],
   "source": [
    "//Reponse 8\n",
    "val TSDF = fireTSDF.filter(year(fireTSDF(\"IncidentDate\")) === \"2018\")\n",
    "val stat = TSDF.groupBy(\"Neighborhood\").mean(\"ResponseDelayedinMins\").orderBy(\"avg(ResponseDelayedinMins)\")\n",
    "stat.show(100,false)"
   ]
  },
  {
   "cell_type": "markdown",
   "metadata": {},
   "source": [
    "le quartier avec le pire temps de reponde supposé ici la moyenne du temps de reponse est Chinatown"
   ]
  },
  {
   "cell_type": "markdown",
   "metadata": {},
   "source": [
    "### Question 9\n",
    "\n",
    "**Comment stocker les données du Dataframe sous format de fichiers Parquet?**"
   ]
  },
  {
   "cell_type": "code",
   "execution_count": 21,
   "metadata": {},
   "outputs": [],
   "source": [
    "//Reponse 9\n",
    "fireTSDF.write.format(\"parquet\").save(\"/tmp/fireServiceParquet1/\")"
   ]
  },
  {
   "cell_type": "markdown",
   "metadata": {},
   "source": [
    "### Question 10\n",
    "**Comment relire les données stockée en format Parquet?**"
   ]
  },
  {
   "cell_type": "code",
   "execution_count": 22,
   "metadata": {},
   "outputs": [
    {
     "name": "stdout",
     "output_type": "stream",
     "text": [
      "+----------+------+--------------+----------------+--------------------+-----------------------+----+-------+---------+-----------+----+----------------+--------+-------------+-------+-------------+---------+--------+--------------------------+----------------------+------------------+---------------------+-------------------------------------+-------------+---------------------+-------------------+-------------------+-------------------+\n",
      "|CallNumber|UnitID|IncidentNumber|CallType        |CallFinalDisposition|Address                |City|Zipcode|Battalion|StationArea|Box |OriginalPriority|Priority|FinalPriority|ALSUnit|CallTypeGroup|NumAlarms|UnitType|UnitSequenceInCallDispatch|FirePreventionDistrict|SupervisorDistrict|Neighborhood         |Location                             |RowID        |ResponseDelayedinMins|IncidentDate       |OnWatchDate        |AvailableDtTS      |\n",
      "+----------+------+--------------+----------------+--------------------+-----------------------+----+-------+---------+-----------+----+----------------+--------+-------------+-------+-------------+---------+--------+--------------------------+----------------------+------------------+---------------------+-------------------------------------+-------------+---------------------+-------------------+-------------------+-------------------+\n",
      "|110700186 |64    |11023022      |Medical Incident|Code 2 Transport    |1600 Block of MARKET ST|SF  |94103  |B02      |36         |3311|2               |2       |2            |true   |null         |1        |MEDIC   |1                         |2                     |6                 |Mission              |(37.7726948236861, -122.422188261426)|110700186-64 |4.75                 |2011-03-11 00:00:00|2011-03-11 00:00:00|2011-03-11 14:17:59|\n",
      "|110700191 |84    |11023026      |Medical Incident|Code 2 Transport    |MARKET ST/5TH ST       |SF  |94103  |B03      |1          |1364|3               |3       |3            |true   |null         |1        |MEDIC   |1                         |3                     |6                 |South of Market      |(37.7839914857614, -122.408066547804)|110700191-84 |2.65                 |2011-03-11 00:00:00|2011-03-11 00:00:00|2011-03-11 13:56:47|\n",
      "|110700205 |E28   |11023038      |Medical Incident|Other               |POWELL ST/FRANCISCO ST |SF  |94133  |B01      |28         |131 |B               |B       |2            |false  |null         |1        |ENGINE  |1                         |1                     |3                 |North Beach          |(37.8048960105792, -122.411766482067)|110700205-E28|5.383333             |2011-03-11 00:00:00|2011-03-11 00:00:00|2011-03-11 13:45:27|\n",
      "|110700219 |E21   |11023051      |Medical Incident|Other               |800 Block of FULTON ST |SF  |94117  |B05      |5          |3521|2               |2       |2            |false  |null         |1        |ENGINE  |1                         |2                     |5                 |Hayes Valley         |(37.7777004665832, -122.431132874375)|110700219-E21|3.6666667            |2011-03-11 00:00:00|2011-03-11 00:00:00|2011-03-11 14:48:45|\n",
      "|110700265 |E42   |11023085      |Medical Incident|Other               |1700 Block of QUINT ST |SF  |94124  |B10      |42         |6445|3               |3       |3            |true   |null         |1        |ENGINE  |1                         |10                    |10                |Bayview Hunters Point|(37.7350748815594, -122.398827357293)|110700265-E42|2.1                  |2011-03-11 00:00:00|2011-03-11 00:00:00|2011-03-11 16:41:56|\n",
      "+----------+------+--------------+----------------+--------------------+-----------------------+----+-------+---------+-----------+----+----------------+--------+-------------+-------+-------------+---------+--------+--------------------------+----------------------+------------------+---------------------+-------------------------------------+-------------+---------------------+-------------------+-------------------+-------------------+\n",
      "only showing top 5 rows\n",
      "\n"
     ]
    },
    {
     "data": {
      "text/plain": [
       "tempDF: org.apache.spark.sql.DataFrame = [CallNumber: int, UnitID: string ... 26 more fields]\n"
      ]
     },
     "execution_count": 22,
     "metadata": {},
     "output_type": "execute_result"
    }
   ],
   "source": [
    "//Reponse 10\n",
    "val tempDF = spark.read.parquet(\"/tmp/fireServiceParquet1/\")\n",
    "tempDF.show(5, false)"
   ]
  },
  {
   "cell_type": "markdown",
   "metadata": {},
   "source": [
    "## FIN"
   ]
  }
 ],
 "metadata": {
  "kernelspec": {
   "display_name": "spylon-kernel",
   "language": "scala",
   "name": "spylon-kernel"
  },
  "language_info": {
   "codemirror_mode": "text/x-scala",
   "file_extension": ".scala",
   "help_links": [
    {
     "text": "MetaKernel Magics",
     "url": "https://metakernel.readthedocs.io/en/latest/source/README.html"
    }
   ],
   "mimetype": "text/x-scala",
   "name": "scala",
   "pygments_lexer": "scala",
   "version": "0.4.1"
  }
 },
 "nbformat": 4,
 "nbformat_minor": 4
}
